{
 "cells": [
  {
   "cell_type": "markdown",
   "id": "b8648df7",
   "metadata": {},
   "source": [
    "## Tipos de Dados\n"
   ]
  },
  {
   "cell_type": "code",
   "execution_count": 1,
   "id": "cfe7f07e",
   "metadata": {},
   "outputs": [
    {
     "name": "stdout",
     "output_type": "stream",
     "text": [
      "3\n"
     ]
    }
   ],
   "source": [
    "numero1 = input(\"Digite um numero\")\n",
    "numero2 = input(\"Digite outro numero\")\n",
    "\n",
    "resultado_soma = int(numero1) + int(numero2)\n",
    "print(resultado_soma)"
   ]
  }
 ],
 "metadata": {
  "kernelspec": {
   "display_name": "Python 3",
   "language": "python",
   "name": "python3"
  },
  "language_info": {
   "codemirror_mode": {
    "name": "ipython",
    "version": 3
   },
   "file_extension": ".py",
   "mimetype": "text/x-python",
   "name": "python",
   "nbconvert_exporter": "python",
   "pygments_lexer": "ipython3",
   "version": "3.13.5"
  }
 },
 "nbformat": 4,
 "nbformat_minor": 5
}
