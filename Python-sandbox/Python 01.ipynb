{
 "cells": [
  {
   "cell_type": "markdown",
   "id": "4022be26",
   "metadata": {},
   "source": [
    "## Variaveis\n"
   ]
  },
  {
   "cell_type": "code",
   "execution_count": 1,
   "id": "45507928",
   "metadata": {},
   "outputs": [
    {
     "name": "stdout",
     "output_type": "stream",
     "text": [
      "2\n"
     ]
    }
   ],
   "source": [
    "print(1+1)"
   ]
  },
  {
   "cell_type": "code",
   "execution_count": 2,
   "id": "8545cc86",
   "metadata": {},
   "outputs": [
    {
     "name": "stdout",
     "output_type": "stream",
     "text": [
      "Hello Word!\n"
     ]
    }
   ],
   "source": [
    "print(\"Hello Word!\")"
   ]
  },
  {
   "cell_type": "code",
   "execution_count": 1,
   "id": "fc3aff57",
   "metadata": {},
   "outputs": [
    {
     "name": "stdout",
     "output_type": "stream",
     "text": [
      "25\n"
     ]
    }
   ],
   "source": [
    "s1 = 10 \n",
    "s2 = 15\n",
    "soma = s1 + s2 \n",
    "#multi = s1 ** s2\n",
    "\"\"\"Comentando mais de uma linha \"\"\"\n",
    "print(soma)"
   ]
  },
  {
   "cell_type": "code",
   "execution_count": 3,
   "id": "7e908131",
   "metadata": {},
   "outputs": [
    {
     "name": "stdout",
     "output_type": "stream",
     "text": [
      "2\n",
      "4\n",
      "6\n"
     ]
    }
   ],
   "source": [
    "mais_um = 1+1\n",
    "mais_dois = 2+2\n",
    "\n",
    "print(mais_um)\n",
    "print(mais_dois)\n",
    "\n",
    "print(mais_um + mais_dois)\n"
   ]
  },
  {
   "cell_type": "markdown",
   "id": "77d5b676",
   "metadata": {},
   "source": [
    "## Input \n"
   ]
  },
  {
   "cell_type": "code",
   "execution_count": null,
   "id": "5688c41c",
   "metadata": {},
   "outputs": [
    {
     "ename": "SyntaxError",
     "evalue": "unexpected character after line continuation character (1900148328.py, line 4)",
     "output_type": "error",
     "traceback": [
      "  \u001b[36mCell\u001b[39m\u001b[36m \u001b[39m\u001b[32mIn[7]\u001b[39m\u001b[32m, line 4\u001b[39m\n\u001b[31m    \u001b[39m\u001b[31minformacoes = idade\\n + nome\u001b[39m\n                        ^\n\u001b[31mSyntaxError\u001b[39m\u001b[31m:\u001b[39m unexpected character after line continuation character\n"
     ]
    }
   ],
   "source": [
    "idade = input()\n",
    "nome = input()\n",
    "\n",
    "informacoes = idade  + nome\n",
    "print(informacoes)"
   ]
  }
 ],
 "metadata": {
  "kernelspec": {
   "display_name": "Python 3",
   "language": "python",
   "name": "python3"
  },
  "language_info": {
   "codemirror_mode": {
    "name": "ipython",
    "version": 3
   },
   "file_extension": ".py",
   "mimetype": "text/x-python",
   "name": "python",
   "nbconvert_exporter": "python",
   "pygments_lexer": "ipython3",
   "version": "3.13.5"
  }
 },
 "nbformat": 4,
 "nbformat_minor": 5
}
